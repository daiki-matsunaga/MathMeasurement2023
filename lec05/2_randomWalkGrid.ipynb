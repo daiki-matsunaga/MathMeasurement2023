{
 "cells": [
  {
   "cell_type": "code",
   "execution_count": null,
   "metadata": {},
   "outputs": [],
   "source": [
    "import numpy as np\n",
    "import matplotlib.pyplot as plt\n",
    "from scipy.optimize import curve_fit\n",
    "import random\n",
    "\n",
    "x0 = 0.0    # initial x-position\n",
    "y0 = 0.0    # initial y-position\n",
    "v0 = 1.0    # velocity\n",
    "dt = 1.0\n",
    "\n",
    "numParticle = 5\n",
    "numStep = 300\n",
    "\n",
    "fig, ax = plt.subplots()\n",
    "\n",
    "xs = []\n",
    "ys = []\n",
    "\n",
    "angle = [-np.pi/2.0, np.pi/2.0]\n",
    "\n",
    "# run particles\n",
    "for idParticle in range(numParticle):\n",
    "    x = [x0]\n",
    "    y = [y0]\n",
    "    theta = np.random.randint(0, 4)*np.pi/2.0\n",
    "\n",
    "    for iter in range(numStep - 1):\n",
    "        theta += random.choice(angle) \n",
    "        tx = x[iter] + np.cos(theta)\n",
    "        ty = y[iter] + np.sin(theta) \n",
    "\n",
    "        x.append(tx)\n",
    "        y.append(ty)\n",
    "\n",
    "    ax.plot(x, y)\n",
    "    xs.append(x) \n",
    "    ys.append(y) \n",
    "\n",
    "ax.plot(x0, y0, \"ro\")\n",
    "ax.set_aspect(\"equal\")\n",
    "plt.show()"
   ]
  },
  {
   "cell_type": "code",
   "execution_count": null,
   "metadata": {},
   "outputs": [],
   "source": [
    "# compute auto-correlation\n",
    "count = np.zeros(numStep)\n",
    "r2 = np.zeros(numStep)\n",
    "\n",
    "for idParticle in range(numParticle):\n",
    "    for i in range(numStep):\n",
    "        for j in range(i, numStep):\n",
    "            dx = xs[idParticle][j] - xs[idParticle][i]\n",
    "            dy = ys[idParticle][j] - ys[idParticle][i]\n",
    "\n",
    "            r2[j - i] += dx**2.0 + dy**2.0 \n",
    "            count[j - i] += 1\n",
    "\n",
    "def func(x, a, b):\n",
    "    return a*x**b\n",
    "\n",
    "msd = r2/count\n",
    "\n",
    "t = np.arange(dt, dt*numStep, dt)\n",
    "\n",
    "fig, ax = plt.subplots()\n",
    "ax.plot(t, msd[1:])\n",
    "ax.plot(t, t, color=\"black\", linestyle=\"dashdot\", label=\"O(t)\")\n",
    "ax.plot(t, t**2.0, color=\"black\", linestyle=\"dashed\", label=\"O(t^2)\")\n",
    "ax.set_xscale('log')\n",
    "ax.set_yscale('log')\n",
    "ax.set_xlabel(\"time\")\n",
    "ax.set_ylabel(\"MSD\")\n",
    "ax.legend()\n",
    "plt.show()"
   ]
  },
  {
   "cell_type": "code",
   "execution_count": null,
   "metadata": {},
   "outputs": [],
   "source": []
  }
 ],
 "metadata": {
  "kernelspec": {
   "display_name": "Python 3",
   "language": "python",
   "name": "python3"
  },
  "language_info": {
   "codemirror_mode": {
    "name": "ipython",
    "version": 3
   },
   "file_extension": ".py",
   "mimetype": "text/x-python",
   "name": "python",
   "nbconvert_exporter": "python",
   "pygments_lexer": "ipython3",
   "version": "3.8.5"
  }
 },
 "nbformat": 4,
 "nbformat_minor": 4
}
